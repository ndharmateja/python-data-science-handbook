{
 "cells": [
  {
   "cell_type": "markdown",
   "id": "6f997d46-def2-4076-ba20-f4ac20d7088d",
   "metadata": {
    "jp-MarkdownHeadingCollapsed": true
   },
   "source": [
    "# Accessing Documentation"
   ]
  },
  {
   "cell_type": "markdown",
   "id": "41e3a5cd-f2e6-4c6c-b4f8-3578ba35310d",
   "metadata": {
    "jp-MarkdownHeadingCollapsed": true
   },
   "source": [
    "## help()"
   ]
  },
  {
   "cell_type": "code",
   "execution_count": 1,
   "id": "61680311-d6c1-4385-8fdf-4211ae45a1e8",
   "metadata": {},
   "outputs": [
    {
     "name": "stdout",
     "output_type": "stream",
     "text": [
      "Help on built-in function len in module builtins:\n",
      "\n",
      "len(obj, /)\n",
      "    Return the number of items in a container.\n",
      "\n"
     ]
    }
   ],
   "source": [
    "help(len)"
   ]
  },
  {
   "cell_type": "markdown",
   "id": "8cedc1d5-49ee-42cd-9e59-15dd4f342c9e",
   "metadata": {
    "jp-MarkdownHeadingCollapsed": true
   },
   "source": [
    "## ?"
   ]
  },
  {
   "cell_type": "code",
   "execution_count": 13,
   "id": "584bf27d-acec-4631-9c0b-be99b892bb0f",
   "metadata": {},
   "outputs": [
    {
     "data": {
      "text/plain": [
       "\u001b[31mSignature:\u001b[39m len(obj, /)\n",
       "\u001b[31mDocstring:\u001b[39m Return the number of items in a container.\n",
       "\u001b[31mType:\u001b[39m      builtin_function_or_method"
      ]
     },
     "metadata": {},
     "output_type": "display_data"
    }
   ],
   "source": [
    "len?"
   ]
  },
  {
   "cell_type": "code",
   "execution_count": 14,
   "id": "3cb2de7e-cabb-47f7-9b4e-28e422182a26",
   "metadata": {},
   "outputs": [
    {
     "data": {
      "text/plain": [
       "\u001b[31mSignature:\u001b[39m lst.insert(index, object, /)\n",
       "\u001b[31mDocstring:\u001b[39m Insert object before index.\n",
       "\u001b[31mType:\u001b[39m      builtin_function_or_method"
      ]
     },
     "metadata": {},
     "output_type": "display_data"
    }
   ],
   "source": [
    "lst = [1, 2, 3]\n",
    "lst.insert??"
   ]
  },
  {
   "cell_type": "code",
   "execution_count": 15,
   "id": "75081298-6182-482c-9147-a58cf1956714",
   "metadata": {},
   "outputs": [
    {
     "data": {
      "text/plain": [
       "\u001b[31mType:\u001b[39m        list\n",
       "\u001b[31mString form:\u001b[39m [1, 2, 3]\n",
       "\u001b[31mLength:\u001b[39m      3\n",
       "\u001b[31mDocstring:\u001b[39m  \n",
       "Built-in mutable sequence.\n",
       "\n",
       "If no argument is given, the constructor creates a new empty list.\n",
       "The argument must be an iterable if specified."
      ]
     },
     "metadata": {},
     "output_type": "display_data"
    }
   ],
   "source": [
    "lst?"
   ]
  },
  {
   "cell_type": "markdown",
   "id": "bf133d9e-c28c-4571-970f-e7595726293e",
   "metadata": {
    "jp-MarkdownHeadingCollapsed": true
   },
   "source": [
    "## ??"
   ]
  },
  {
   "cell_type": "code",
   "execution_count": 12,
   "id": "09c04297-5b1d-4529-83a3-20921f06a2d5",
   "metadata": {},
   "outputs": [
    {
     "data": {
      "text/plain": [
       "\u001b[31mSignature:\u001b[39m square(x)\n",
       "\u001b[31mDocstring:\u001b[39m Returns the square of x\n",
       "\u001b[31mFile:\u001b[39m      /var/folders/p7/7ts6f0h15l956kby638s31j00000gn/T/ipykernel_9944/1880452775.py\n",
       "\u001b[31mType:\u001b[39m      function"
      ]
     },
     "metadata": {},
     "output_type": "display_data"
    }
   ],
   "source": [
    "def square(x):\n",
    "    \"\"\"Returns the square of x\"\"\"\n",
    "    return x * x\n",
    "\n",
    "square?"
   ]
  },
  {
   "cell_type": "markdown",
   "id": "4703c269-37af-4375-9f81-432a907754cf",
   "metadata": {
    "jp-MarkdownHeadingCollapsed": true
   },
   "source": [
    "# Tab autocompletion"
   ]
  },
  {
   "cell_type": "code",
   "execution_count": null,
   "id": "7c697d6f-f219-43f3-9607-2e345f90fd40",
   "metadata": {},
   "outputs": [],
   "source": [
    "lst."
   ]
  },
  {
   "cell_type": "code",
   "execution_count": null,
   "id": "266bf02e-2df6-45db-abe4-19713bf6819b",
   "metadata": {},
   "outputs": [],
   "source": [
    "lst.c"
   ]
  },
  {
   "cell_type": "code",
   "execution_count": null,
   "id": "98ae8f74-705c-4baa-8ab7-e9287ff32f34",
   "metadata": {},
   "outputs": [],
   "source": [
    "from itertools import ch"
   ]
  }
 ],
 "metadata": {
  "kernelspec": {
   "display_name": "Python 3 (ipykernel)",
   "language": "python",
   "name": "python3"
  },
  "language_info": {
   "codemirror_mode": {
    "name": "ipython",
    "version": 3
   },
   "file_extension": ".py",
   "mimetype": "text/x-python",
   "name": "python",
   "nbconvert_exporter": "python",
   "pygments_lexer": "ipython3",
   "version": "3.12.9"
  }
 },
 "nbformat": 4,
 "nbformat_minor": 5
}
