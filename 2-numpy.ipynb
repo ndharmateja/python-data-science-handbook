{
 "cells": [
  {
   "attachments": {},
   "cell_type": "markdown",
   "id": "739171b4-771b-4fb6-ad28-a15526a29e71",
   "metadata": {},
   "source": [
    "# Understanding Datatypes in Python"
   ]
  },
  {
   "cell_type": "markdown",
   "id": "4ed217c8-aacd-4f40-8592-4e76832ee564",
   "metadata": {
    "jp-MarkdownHeadingCollapsed": true
   },
   "source": [
    "## Python Integers"
   ]
  },
  {
   "cell_type": "markdown",
   "id": "1afd162f-3e52-449f-aa3a-216d492083e9",
   "metadata": {},
   "source": [
    "- The standard Python implementation is written in C. This means that every Python object is simply a cleverly disguised C structure, which contains not only its value, but other information as well.\n",
    "- The integer (long) type definition effectively looks like this (once the C macros are expanded):\n",
    "  - ```\n",
    "    struct _longobject {\n",
    "     long ob_refcnt;\n",
    "     PyTypeObject *ob_type;\n",
    "     size_t ob_size;\n",
    "     long ob_digit[1];\n",
    "    };\n",
    "    ```\n",
    "  - ![C vs Python Integers](images/c-vs-python-integers.png)\n",
    "  - This means that there is some overhead in storing an integer in Python\n",
    "- This extra information in the Python integer structure is what allows Python to be coded so freely and dynamically.\n",
    "- All this additional information in Python types comes at a cost, however, which becomes especially apparent in structures that combine many of these objects"
   ]
  },
  {
   "cell_type": "markdown",
   "id": "8a5ff3a0-fa99-47df-b2a4-9fbe4785a7ea",
   "metadata": {
    "jp-MarkdownHeadingCollapsed": true
   },
   "source": [
    "## NumPy Arrays Advantages"
   ]
  },
  {
   "cell_type": "markdown",
   "id": "3e12079f-0727-4472-a20c-6c9386dab97b",
   "metadata": {},
   "source": [
    "- At the implementation level, the array essentially contains a single pointer to one contiguous block of data.\n",
    "- The Python list, on the other hand, contains a pointer to a block of pointers, each of which in turn points to a full Python object.\n",
    "- Again, the advantage of the list is flexibility: because each list element is a full structure containing both data and type information, the list can be filled with data of any desired type.\n",
    "- Fixed-type NumPy-style arrays lack this flexibility, but are much more efficient for storing and manipulating data."
   ]
  },
  {
   "cell_type": "markdown",
   "id": "82149a0f-c196-4ab9-a7cf-46ab29a5f512",
   "metadata": {
    "jp-MarkdownHeadingCollapsed": true
   },
   "source": [
    "## Creating Arrays from Lists"
   ]
  },
  {
   "cell_type": "code",
   "execution_count": 2,
   "id": "c16a5783-ec02-4f8e-a345-933755691891",
   "metadata": {},
   "outputs": [],
   "source": [
    "import numpy as np"
   ]
  },
  {
   "cell_type": "code",
   "execution_count": 3,
   "id": "1b2e2124-f8d9-428f-b00e-113db42a2ce7",
   "metadata": {},
   "outputs": [
    {
     "data": {
      "text/plain": [
       "array([1, 4, 3, 2, 5])"
      ]
     },
     "execution_count": 3,
     "metadata": {},
     "output_type": "execute_result"
    }
   ],
   "source": [
    "np.array([1, 4, 3, 2, 5])"
   ]
  },
  {
   "cell_type": "markdown",
   "id": "d631f75b-561f-4e55-9bbc-b98c061b0c38",
   "metadata": {},
   "source": [
    "- If types do not match, NumPy will upcast if possible (here, integers are upcast to floating point)"
   ]
  },
  {
   "cell_type": "code",
   "execution_count": 4,
   "id": "733c9ceb-1484-461e-97b7-ce31e64bc1f7",
   "metadata": {},
   "outputs": [
    {
     "data": {
      "text/plain": [
       "array([3.14, 4.  , 2.  , 3.  ])"
      ]
     },
     "execution_count": 4,
     "metadata": {},
     "output_type": "execute_result"
    }
   ],
   "source": [
    "# If types do not match, NumPy will upcast if possible (here, integers are\n",
    "# upcast to floating point)\n",
    "np.array([3.14, 4, 2, 3])"
   ]
  },
  {
   "cell_type": "markdown",
   "id": "94fb6a5f-b6a4-46c8-8606-e137869a81d4",
   "metadata": {},
   "source": [
    "- If we want to explicitly set the data type of the resulting array, we can use the dtype keyword"
   ]
  },
  {
   "cell_type": "code",
   "execution_count": 5,
   "id": "c53a1884-affa-4815-94e7-2b47bb526cc5",
   "metadata": {},
   "outputs": [
    {
     "data": {
      "text/plain": [
       "array([1., 2., 3., 4.], dtype=float32)"
      ]
     },
     "execution_count": 5,
     "metadata": {},
     "output_type": "execute_result"
    }
   ],
   "source": [
    "np.array([1, 2, 3, 4], dtype='float32')"
   ]
  },
  {
   "cell_type": "markdown",
   "id": "94d2cc72-89a8-4101-99df-07e7975c917e",
   "metadata": {},
   "source": [
    "- Nested lists result in multidimensional arrays"
   ]
  },
  {
   "cell_type": "code",
   "execution_count": 6,
   "id": "c6215714-ceff-4c29-9bd3-fe8ee0f434ad",
   "metadata": {},
   "outputs": [
    {
     "data": {
      "text/plain": [
       "array([[2, 3, 4],\n",
       "       [4, 5, 6],\n",
       "       [6, 7, 8]])"
      ]
     },
     "execution_count": 6,
     "metadata": {},
     "output_type": "execute_result"
    }
   ],
   "source": [
    "np.array([range(i, i + 3) for i in [2, 4, 6]])"
   ]
  },
  {
   "cell_type": "markdown",
   "id": "dbca2aa9-abc5-4a46-be08-1d26da606f62",
   "metadata": {
    "jp-MarkdownHeadingCollapsed": true
   },
   "source": [
    "## Creating Arrays from Scratch"
   ]
  },
  {
   "cell_type": "code",
   "execution_count": 7,
   "id": "be4f7dfb-b1c2-47f6-99cd-4e673e194608",
   "metadata": {},
   "outputs": [
    {
     "data": {
      "text/plain": [
       "array([0, 0, 0, 0, 0, 0, 0, 0, 0, 0])"
      ]
     },
     "execution_count": 7,
     "metadata": {},
     "output_type": "execute_result"
    }
   ],
   "source": [
    "np.zeros(10, dtype=int)"
   ]
  },
  {
   "cell_type": "code",
   "execution_count": 8,
   "id": "7df2c3eb-23a7-40b3-b688-fa4b1cca0823",
   "metadata": {},
   "outputs": [
    {
     "data": {
      "text/plain": [
       "array([[1., 1., 1., 1., 1.],\n",
       "       [1., 1., 1., 1., 1.],\n",
       "       [1., 1., 1., 1., 1.]])"
      ]
     },
     "execution_count": 8,
     "metadata": {},
     "output_type": "execute_result"
    }
   ],
   "source": [
    "np.ones((3, 5), dtype=float)"
   ]
  },
  {
   "cell_type": "code",
   "execution_count": 9,
   "id": "0c93ff5d-3cbf-404b-ba45-8fd4073f4e8e",
   "metadata": {},
   "outputs": [
    {
     "data": {
      "text/plain": [
       "array([[3.14, 3.14, 3.14, 3.14, 3.14],\n",
       "       [3.14, 3.14, 3.14, 3.14, 3.14],\n",
       "       [3.14, 3.14, 3.14, 3.14, 3.14]])"
      ]
     },
     "execution_count": 9,
     "metadata": {},
     "output_type": "execute_result"
    }
   ],
   "source": [
    "np.full((3, 5), 3.14)"
   ]
  },
  {
   "cell_type": "code",
   "execution_count": 10,
   "id": "7d46974d-9c8a-4b7a-a6ae-7b7548c2bd65",
   "metadata": {},
   "outputs": [
    {
     "data": {
      "text/plain": [
       "array([ 0,  2,  4,  6,  8, 10, 12, 14, 16, 18])"
      ]
     },
     "execution_count": 10,
     "metadata": {},
     "output_type": "execute_result"
    }
   ],
   "source": [
    "np.arange(0, 20, 2)"
   ]
  },
  {
   "cell_type": "code",
   "execution_count": 11,
   "id": "efa8b519-0181-4dad-9c45-dd23ed360acb",
   "metadata": {},
   "outputs": [
    {
     "data": {
      "text/plain": [
       "array([0. , 0.2, 0.4, 0.6, 0.8, 1. ])"
      ]
     },
     "execution_count": 11,
     "metadata": {},
     "output_type": "execute_result"
    }
   ],
   "source": [
    "np.linspace(0, 1, 6)"
   ]
  },
  {
   "cell_type": "code",
   "execution_count": 12,
   "id": "fc59701b-bd6f-47f2-bb15-26edcf5e02da",
   "metadata": {},
   "outputs": [
    {
     "data": {
      "text/plain": [
       "array([[0.10364603, 0.59412473],\n",
       "       [0.76186587, 0.73421955],\n",
       "       [0.25339663, 0.8698121 ]])"
      ]
     },
     "execution_count": 12,
     "metadata": {},
     "output_type": "execute_result"
    }
   ],
   "source": [
    "np.random.random(size=(3, 2))"
   ]
  },
  {
   "cell_type": "code",
   "execution_count": 13,
   "id": "17d2af74-95e2-41d8-9968-db56041a0a55",
   "metadata": {},
   "outputs": [
    {
     "data": {
      "text/plain": [
       "array([[-0.04674038,  0.01659039,  1.11538711,  0.68820297,  0.63918516],\n",
       "       [-0.34111817, -1.19045887,  0.92259175,  1.17717516, -0.42181103],\n",
       "       [ 0.33263246, -1.92165212,  1.46811615, -1.69513291,  1.13644582]])"
      ]
     },
     "execution_count": 13,
     "metadata": {},
     "output_type": "execute_result"
    }
   ],
   "source": [
    "# Create a 3x3 array of normally distributed random values\n",
    "# with mean 0 and standard deviation 1\n",
    "np.random.normal(0, 1, size=(3, 5))"
   ]
  },
  {
   "cell_type": "code",
   "execution_count": 14,
   "id": "9d6b0c6a-d425-408e-bf65-64845a102b5b",
   "metadata": {},
   "outputs": [
    {
     "data": {
      "text/plain": [
       "array([[6, 4, 2, 8],\n",
       "       [3, 0, 1, 9],\n",
       "       [2, 3, 4, 8]])"
      ]
     },
     "execution_count": 14,
     "metadata": {},
     "output_type": "execute_result"
    }
   ],
   "source": [
    "# Create a 3x3 array of random integers in the interval [0, 10)\n",
    "np.random.randint(0, 10, size=(3, 4))"
   ]
  },
  {
   "cell_type": "code",
   "execution_count": 15,
   "id": "29440409-79eb-425c-b75b-b415ccf9b631",
   "metadata": {},
   "outputs": [
    {
     "data": {
      "text/plain": [
       "array([[1, 0, 0, 0],\n",
       "       [0, 1, 0, 0],\n",
       "       [0, 0, 1, 0],\n",
       "       [0, 0, 0, 1]])"
      ]
     },
     "execution_count": 15,
     "metadata": {},
     "output_type": "execute_result"
    }
   ],
   "source": [
    "# Create a 3x3 identity matrix\n",
    "np.eye(4, dtype=int)"
   ]
  },
  {
   "cell_type": "code",
   "execution_count": 16,
   "id": "d37a6289-cdca-4434-bb69-1d0877f134d9",
   "metadata": {},
   "outputs": [
    {
     "data": {
      "text/plain": [
       "array([3., 2., 1.])"
      ]
     },
     "execution_count": 16,
     "metadata": {},
     "output_type": "execute_result"
    }
   ],
   "source": [
    "# Create an uninitialized array of three integers\n",
    "# The values will be whatever happens to already exist at that\n",
    "# memory location\n",
    "np.empty(3)"
   ]
  },
  {
   "cell_type": "markdown",
   "id": "9626b990-0e35-49ec-b38d-ae8b7858d8c4",
   "metadata": {
    "jp-MarkdownHeadingCollapsed": true
   },
   "source": [
    "## NumPy Standard Datatypes"
   ]
  },
  {
   "cell_type": "markdown",
   "id": "c491ec12-3ede-4f8e-8597-7b371af9e61c",
   "metadata": {},
   "source": [
    "<img src=\"images/datatypes.png\" width=\"500\"/>"
   ]
  },
  {
   "cell_type": "code",
   "execution_count": 17,
   "id": "30630f1c-4eee-41da-a247-8ce43e79ee83",
   "metadata": {},
   "outputs": [
    {
     "data": {
      "text/plain": [
       "array([0, 0, 0, 0, 0, 0, 0, 0, 0, 0], dtype=int16)"
      ]
     },
     "execution_count": 17,
     "metadata": {},
     "output_type": "execute_result"
    }
   ],
   "source": [
    "np.zeros(10, dtype='int16')"
   ]
  },
  {
   "cell_type": "code",
   "execution_count": 18,
   "id": "63fe38a8-d5b1-46aa-9ac3-151c0f0a5fcd",
   "metadata": {},
   "outputs": [
    {
     "data": {
      "text/plain": [
       "array([0, 0, 0, 0, 0, 0, 0, 0, 0, 0], dtype=int16)"
      ]
     },
     "execution_count": 18,
     "metadata": {},
     "output_type": "execute_result"
    }
   ],
   "source": [
    "np.zeros(10, dtype=np.int16)"
   ]
  },
  {
   "cell_type": "markdown",
   "id": "f2ea3a3c-c2ea-4caf-bd6c-4e3826c8dfab",
   "metadata": {},
   "source": [
    "# The Basics of NumPy Arrays"
   ]
  },
  {
   "cell_type": "markdown",
   "id": "6dbe1ac5-1593-4223-98c4-aebcfcc3f850",
   "metadata": {
    "jp-MarkdownHeadingCollapsed": true
   },
   "source": [
    "## NumPy Array Attributes"
   ]
  },
  {
   "cell_type": "code",
   "execution_count": 61,
   "id": "c310a64a-40a7-459b-b249-a2a494d66c7a",
   "metadata": {},
   "outputs": [],
   "source": [
    "# seed for reproducibility\n",
    "np.random.seed(0)"
   ]
  },
  {
   "cell_type": "code",
   "execution_count": 62,
   "id": "03af608c-ff6c-45b3-99ba-de47a9a0ae7e",
   "metadata": {},
   "outputs": [],
   "source": [
    "x1 = np.random.randint(10, size=6) # One-dimensional array\n",
    "x2 = np.random.randint(10, size=(3, 4)) # Two-dimensional array\n",
    "x3 = np.random.randint(10, size=(3, 4, 5)) # Three-dimensional array"
   ]
  },
  {
   "cell_type": "code",
   "execution_count": 63,
   "id": "ddccf2c9-c584-4998-b3b6-85b931ac0d78",
   "metadata": {},
   "outputs": [
    {
     "name": "stdout",
     "output_type": "stream",
     "text": [
      "x1 info:\n",
      "array:    [5 0 3 3 7 9]\n",
      "ndim:     1\n",
      "shape:    (6,)\n",
      "size:     6\n",
      "type:     int64\n",
      "itemsize: 8 bytes\n",
      "nbytes:   48 bytes\n",
      "\n",
      "x2 info:\n",
      "array:    [[3 5 2 4]\n",
      " [7 6 8 8]\n",
      " [1 6 7 7]]\n",
      "ndim:     2\n",
      "shape:    (3, 4)\n",
      "size:     12\n",
      "type:     int64\n",
      "itemsize: 8 bytes\n",
      "nbytes:   96 bytes\n",
      "\n",
      "x3 info:\n",
      "array:    [[[8 1 5 9 8]\n",
      "  [9 4 3 0 3]\n",
      "  [5 0 2 3 8]\n",
      "  [1 3 3 3 7]]\n",
      "\n",
      " [[0 1 9 9 0]\n",
      "  [4 7 3 2 7]\n",
      "  [2 0 0 4 5]\n",
      "  [5 6 8 4 1]]\n",
      "\n",
      " [[4 9 8 1 1]\n",
      "  [7 9 9 3 6]\n",
      "  [7 2 0 3 5]\n",
      "  [9 4 4 6 4]]]\n",
      "ndim:     3\n",
      "shape:    (3, 4, 5)\n",
      "size:     60\n",
      "type:     int64\n",
      "itemsize: 8 bytes\n",
      "nbytes:   480 bytes\n",
      "\n"
     ]
    }
   ],
   "source": [
    "def print_info(x, name):\n",
    "    print(f\"{name} info:\")\n",
    "    print(\"array:   \", x)\n",
    "    print(\"ndim:    \", x.ndim)\n",
    "    print(\"shape:   \", x.shape)\n",
    "    print(\"size:    \", x.size)\n",
    "    \n",
    "    print(\"type:    \", x.dtype)\n",
    "    \n",
    "    print(\"itemsize:\", x.itemsize, \"bytes\") # size of each element in bytes\n",
    "    print(\"nbytes:  \", x.nbytes, \"bytes\") # total size in bytes\n",
    "    print()\n",
    "\n",
    "print_info(x1, \"x1\")\n",
    "print_info(x2, \"x2\")\n",
    "print_info(x3, \"x3\")"
   ]
  },
  {
   "cell_type": "markdown",
   "id": "a54e4422-6b7f-4e7d-b4a0-6ca35df186cf",
   "metadata": {
    "jp-MarkdownHeadingCollapsed": true
   },
   "source": [
    "## Array Indexing: Accessing Single Elements"
   ]
  },
  {
   "cell_type": "code",
   "execution_count": 65,
   "id": "f99690d3-53b6-42f9-8628-c6e92c0dcc57",
   "metadata": {},
   "outputs": [
    {
     "name": "stdout",
     "output_type": "stream",
     "text": [
      "[5 0 3 3 7 9]\n",
      "x[0]: 5\n",
      "x[3]: 3\n",
      "x[-1]: 9\n",
      "x[-2]: 7\n"
     ]
    }
   ],
   "source": [
    "def print_element_1d(x, i):\n",
    "    print(f\"x[{i}]: {x[i]}\")\n",
    "\n",
    "print(x1)\n",
    "print_element_1d(x1, 0)\n",
    "print_element_1d(x1, 3)\n",
    "print_element_1d(x1, -1)\n",
    "print_element_1d(x1, -2)"
   ]
  },
  {
   "cell_type": "code",
   "execution_count": 68,
   "id": "ac74a525-ec31-44d5-8466-2b59d222b0eb",
   "metadata": {},
   "outputs": [
    {
     "name": "stdout",
     "output_type": "stream",
     "text": [
      "[[3 5 2 4]\n",
      " [7 6 8 8]\n",
      " [1 6 7 7]]\n",
      "x[0, 0]: 3\n",
      "x[2, 0]: 1\n",
      "x[2, -1]: 7\n"
     ]
    }
   ],
   "source": [
    "def print_element_2d(x, i, j):\n",
    "    print(f\"x[{i}, {j}]: {x[i, j]}\")\n",
    "\n",
    "print(x2)\n",
    "print_element_2d(x2, 0, 0)\n",
    "print_element_2d(x2, 2, 0)\n",
    "print_element_2d(x2, 2, -1)"
   ]
  },
  {
   "cell_type": "code",
   "execution_count": 69,
   "id": "d180d8fc-c0fe-4e10-aa99-ab0708f42add",
   "metadata": {},
   "outputs": [
    {
     "data": {
      "text/plain": [
       "array([[12,  5,  2,  4],\n",
       "       [ 7,  6,  8,  8],\n",
       "       [ 1,  6,  7,  7]])"
      ]
     },
     "execution_count": 69,
     "metadata": {},
     "output_type": "execute_result"
    }
   ],
   "source": [
    "x2[0, 0] = 12\n",
    "x2"
   ]
  },
  {
   "cell_type": "markdown",
   "id": "918bd531-603d-433e-9d18-fdee548f1761",
   "metadata": {},
   "source": [
    "- NumPy arrays have a fixed type. \n",
    "- This means, for example, that if you attempt to insert a floating-point value to an integer array, the value will be silently truncated."
   ]
  },
  {
   "cell_type": "code",
   "execution_count": 114,
   "id": "c51512c1-83d8-4762-8f79-e6c3830f8622",
   "metadata": {},
   "outputs": [
    {
     "name": "stdout",
     "output_type": "stream",
     "text": [
      "[5 0 3 3 7 9]\n",
      "[5 0 3 3 7 9]\n"
     ]
    }
   ],
   "source": [
    "print(x1)\n",
    "x1[0] = 5.14159 # this will be truncated!\n",
    "print(x1)"
   ]
  },
  {
   "cell_type": "markdown",
   "id": "1491f3e8-d2ed-46ff-8d5e-91a97f428bd1",
   "metadata": {},
   "source": [
    "## Array Slicing: Accessing Subarrays"
   ]
  },
  {
   "cell_type": "markdown",
   "id": "8d29a049-a38d-47ed-a82b-7f3f91eccc47",
   "metadata": {
    "jp-MarkdownHeadingCollapsed": true
   },
   "source": [
    "### One-dimensional subarrays"
   ]
  },
  {
   "cell_type": "code",
   "execution_count": 74,
   "id": "da0b2464-0041-4ecf-901d-895d9205eac0",
   "metadata": {},
   "outputs": [
    {
     "data": {
      "text/plain": [
       "array([0, 1, 2, 3, 4, 5, 6, 7, 8, 9])"
      ]
     },
     "execution_count": 74,
     "metadata": {},
     "output_type": "execute_result"
    }
   ],
   "source": [
    "x = np.arange(10)\n",
    "x"
   ]
  },
  {
   "cell_type": "code",
   "execution_count": 77,
   "id": "372bee7d-cf12-4c86-93ce-ea44f8b123fe",
   "metadata": {},
   "outputs": [
    {
     "data": {
      "text/plain": [
       "array([0, 1, 2, 3, 4])"
      ]
     },
     "execution_count": 77,
     "metadata": {},
     "output_type": "execute_result"
    }
   ],
   "source": [
    "x[:5] # first five elements"
   ]
  },
  {
   "cell_type": "code",
   "execution_count": 76,
   "id": "018e29fd-856a-4420-85f5-c55d0b4cf861",
   "metadata": {},
   "outputs": [
    {
     "data": {
      "text/plain": [
       "array([5, 6, 7, 8, 9])"
      ]
     },
     "execution_count": 76,
     "metadata": {},
     "output_type": "execute_result"
    }
   ],
   "source": [
    "x[5:] # elements after index 5"
   ]
  },
  {
   "cell_type": "code",
   "execution_count": 78,
   "id": "c43d5e6f-93d3-4a12-a1f7-d8d4e4eff284",
   "metadata": {},
   "outputs": [
    {
     "data": {
      "text/plain": [
       "array([4, 5, 6])"
      ]
     },
     "execution_count": 78,
     "metadata": {},
     "output_type": "execute_result"
    }
   ],
   "source": [
    "x[4:7]"
   ]
  },
  {
   "cell_type": "code",
   "execution_count": 79,
   "id": "0e41e18d-98f6-4615-afc3-4347901976b7",
   "metadata": {},
   "outputs": [
    {
     "data": {
      "text/plain": [
       "array([0, 2, 4, 6, 8])"
      ]
     },
     "execution_count": 79,
     "metadata": {},
     "output_type": "execute_result"
    }
   ],
   "source": [
    "x[::2] # every other element"
   ]
  },
  {
   "cell_type": "code",
   "execution_count": 80,
   "id": "ef8e4309-57a3-4c5e-8b34-18da6342a59f",
   "metadata": {},
   "outputs": [
    {
     "data": {
      "text/plain": [
       "array([1, 3, 5, 7, 9])"
      ]
     },
     "execution_count": 80,
     "metadata": {},
     "output_type": "execute_result"
    }
   ],
   "source": [
    "x[1::2] # every other element, starting at index 1"
   ]
  },
  {
   "cell_type": "markdown",
   "id": "6cb4f51c-2e06-49a6-ad1c-3bd73fd91a65",
   "metadata": {},
   "source": [
    "- A potentially confusing case is when the step value is negative. \n",
    "- In this case, the defaults for start and stop are swapped. \n",
    "- This becomes a convenient way to reverse an array"
   ]
  },
  {
   "cell_type": "code",
   "execution_count": 86,
   "id": "d0f0d5ce-ad4b-499d-a023-97d66feb5dda",
   "metadata": {},
   "outputs": [
    {
     "data": {
      "text/plain": [
       "array([9, 8, 7, 6, 5, 4, 3, 2, 1, 0])"
      ]
     },
     "execution_count": 86,
     "metadata": {},
     "output_type": "execute_result"
    }
   ],
   "source": [
    "x[::-1] # all elements, reversed"
   ]
  },
  {
   "cell_type": "code",
   "execution_count": 83,
   "id": "dc04489b-2acd-4d93-89c3-0c3600752ace",
   "metadata": {},
   "outputs": [
    {
     "data": {
      "text/plain": [
       "array([5, 3, 1])"
      ]
     },
     "execution_count": 83,
     "metadata": {},
     "output_type": "execute_result"
    }
   ],
   "source": [
    "x[5::-2] # reversed every other from index 5"
   ]
  },
  {
   "cell_type": "markdown",
   "id": "0a5c5d0f-cc17-4bd7-875e-e4dac00a8bf4",
   "metadata": {
    "jp-MarkdownHeadingCollapsed": true
   },
   "source": [
    "### Multidimensional subarrays"
   ]
  },
  {
   "cell_type": "markdown",
   "id": "b10b37b1-0a98-4713-b4d3-685490ec402b",
   "metadata": {},
   "source": [
    "- Multidimensional slices work in the same way, with multiple slices separated by commas."
   ]
  },
  {
   "cell_type": "code",
   "execution_count": 110,
   "id": "d2199821-e896-4190-9a70-656cc095a2f9",
   "metadata": {},
   "outputs": [
    {
     "data": {
      "text/plain": [
       "array([[100,   5,   2,   4],\n",
       "       [  7,   6,   8,   8],\n",
       "       [  1,   6,   7,   7]])"
      ]
     },
     "execution_count": 110,
     "metadata": {},
     "output_type": "execute_result"
    }
   ],
   "source": [
    "x2"
   ]
  },
  {
   "cell_type": "code",
   "execution_count": 111,
   "id": "52b27748-a1f4-413a-a0bb-45c1748a0690",
   "metadata": {},
   "outputs": [
    {
     "data": {
      "text/plain": [
       "array([[100,   5,   2],\n",
       "       [  7,   6,   8]])"
      ]
     },
     "execution_count": 111,
     "metadata": {},
     "output_type": "execute_result"
    }
   ],
   "source": [
    "x2[:2, :3] # two rows, three columns"
   ]
  },
  {
   "cell_type": "code",
   "execution_count": 112,
   "id": "4bd8ee76-260d-4542-b0aa-60ab9de30b6e",
   "metadata": {},
   "outputs": [
    {
     "data": {
      "text/plain": [
       "array([[100,   2],\n",
       "       [  7,   8],\n",
       "       [  1,   7]])"
      ]
     },
     "execution_count": 112,
     "metadata": {},
     "output_type": "execute_result"
    }
   ],
   "source": [
    "x2[:3, ::2] # all rows, every other column"
   ]
  },
  {
   "cell_type": "code",
   "execution_count": 113,
   "id": "f0166a4f-d545-4fcc-b6d7-bb5c8828004e",
   "metadata": {},
   "outputs": [
    {
     "data": {
      "text/plain": [
       "array([[  7,   7,   6,   1],\n",
       "       [  8,   8,   6,   7],\n",
       "       [  4,   2,   5, 100]])"
      ]
     },
     "execution_count": 113,
     "metadata": {},
     "output_type": "execute_result"
    }
   ],
   "source": [
    "x2[::-1, ::-1] # reversed in both dimensions"
   ]
  },
  {
   "cell_type": "markdown",
   "id": "1462d74f-d935-45e8-8c8d-dcd7cb94e3a3",
   "metadata": {
    "jp-MarkdownHeadingCollapsed": true
   },
   "source": [
    "### Accessing array rows and columns"
   ]
  },
  {
   "cell_type": "markdown",
   "id": "ac878b5e-f2f8-4d88-be45-f7b4f5b526de",
   "metadata": {},
   "source": [
    "- One commonly needed routine is accessing single rows or columns of an array.\n",
    "- You can do this by combining indexing and slicing, using an empty slice marked by a single colon (:)"
   ]
  },
  {
   "cell_type": "code",
   "execution_count": 107,
   "id": "040812a3-3f1d-407e-8730-dee8908ed8ac",
   "metadata": {},
   "outputs": [
    {
     "data": {
      "text/plain": [
       "array([[100,   5,   2,   4],\n",
       "       [  7,   6,   8,   8],\n",
       "       [  1,   6,   7,   7]])"
      ]
     },
     "execution_count": 107,
     "metadata": {},
     "output_type": "execute_result"
    }
   ],
   "source": [
    "x2"
   ]
  },
  {
   "cell_type": "code",
   "execution_count": 95,
   "id": "5546edd6-1ee5-484e-9061-07bce33b20e1",
   "metadata": {},
   "outputs": [
    {
     "data": {
      "text/plain": [
       "array([12,  7,  1])"
      ]
     },
     "execution_count": 95,
     "metadata": {},
     "output_type": "execute_result"
    }
   ],
   "source": [
    "x2[:, 0] # first column of x2"
   ]
  },
  {
   "cell_type": "code",
   "execution_count": 96,
   "id": "3bff23b5-75b8-4ca5-947b-dabd1e340e91",
   "metadata": {},
   "outputs": [
    {
     "data": {
      "text/plain": [
       "array([12,  5,  2,  4])"
      ]
     },
     "execution_count": 96,
     "metadata": {},
     "output_type": "execute_result"
    }
   ],
   "source": [
    "x2[0, :] # first row of x2"
   ]
  },
  {
   "cell_type": "code",
   "execution_count": 97,
   "id": "ffe5c1ac-e5cb-4538-8c71-1c9d870b4e7b",
   "metadata": {},
   "outputs": [
    {
     "data": {
      "text/plain": [
       "array([12,  5,  2,  4])"
      ]
     },
     "execution_count": 97,
     "metadata": {},
     "output_type": "execute_result"
    }
   ],
   "source": [
    "x2[0] # equivalent to x2[0, :]"
   ]
  },
  {
   "cell_type": "markdown",
   "id": "9f91fbf6-bbcd-4bfa-b1f3-3ef6c03414ee",
   "metadata": {
    "jp-MarkdownHeadingCollapsed": true
   },
   "source": [
    "### Subarrays as no-copy views"
   ]
  },
  {
   "cell_type": "markdown",
   "id": "e7d0cd3e-51d9-4c61-bc57-251f11b695d8",
   "metadata": {},
   "source": [
    "- Array slices return views rather than copies of the array data.\n",
    "- This is one area in which NumPy array slicing differs from Python list slicing: in lists, slices will be copies."
   ]
  },
  {
   "cell_type": "code",
   "execution_count": 103,
   "id": "635f8f27-55e4-43c3-8b67-3072d603c313",
   "metadata": {},
   "outputs": [
    {
     "data": {
      "text/plain": [
       "array([[100,   5,   2,   4],\n",
       "       [  7,   6,   8,   8],\n",
       "       [  1,   6,   7,   7]])"
      ]
     },
     "execution_count": 103,
     "metadata": {},
     "output_type": "execute_result"
    }
   ],
   "source": [
    "x2"
   ]
  },
  {
   "cell_type": "code",
   "execution_count": 104,
   "id": "c4093997-7d8e-4773-a0d6-07478d4a32ce",
   "metadata": {},
   "outputs": [
    {
     "data": {
      "text/plain": [
       "array([[100,   5],\n",
       "       [  7,   6]])"
      ]
     },
     "execution_count": 104,
     "metadata": {},
     "output_type": "execute_result"
    }
   ],
   "source": [
    "x2_sub = x2[:2, :2]\n",
    "x2_sub"
   ]
  },
  {
   "cell_type": "code",
   "execution_count": 105,
   "id": "9a9f01e8-ca80-4981-a991-63885877de8e",
   "metadata": {},
   "outputs": [
    {
     "data": {
      "text/plain": [
       "array([[100,   5,   2,   4],\n",
       "       [  7,   6,   8,   8],\n",
       "       [  1,   6,   7,   7]])"
      ]
     },
     "execution_count": 105,
     "metadata": {},
     "output_type": "execute_result"
    }
   ],
   "source": [
    "x2_sub[0, 0] = 100\n",
    "x2"
   ]
  },
  {
   "cell_type": "code",
   "execution_count": 106,
   "id": "2101ab26-7b0e-44e5-ad47-1d0b2693267d",
   "metadata": {},
   "outputs": [
    {
     "data": {
      "text/plain": [
       "array([[100,   5,   2,   4],\n",
       "       [  7,   6,   8,   8],\n",
       "       [  1,   6,   7,   7]])"
      ]
     },
     "execution_count": 106,
     "metadata": {},
     "output_type": "execute_result"
    }
   ],
   "source": [
    "x2"
   ]
  },
  {
   "cell_type": "markdown",
   "id": "49283f15-28a2-4eed-82e0-0fa05eadd199",
   "metadata": {
    "jp-MarkdownHeadingCollapsed": true
   },
   "source": [
    "### Creating copies of arrays"
   ]
  },
  {
   "cell_type": "markdown",
   "id": "32019df9-752f-4a37-8746-df52c69eadda",
   "metadata": {},
   "source": [
    "- Copying can be most easily done with the copy() method"
   ]
  },
  {
   "cell_type": "code",
   "execution_count": 118,
   "id": "f1711ff0-16c1-49cb-9044-1a88f05dbf01",
   "metadata": {},
   "outputs": [
    {
     "data": {
      "text/plain": [
       "array([[100,   5,   2,   4],\n",
       "       [  7,   6,   8,   8],\n",
       "       [  1,   6,   7,   7]])"
      ]
     },
     "execution_count": 118,
     "metadata": {},
     "output_type": "execute_result"
    }
   ],
   "source": [
    "x2"
   ]
  },
  {
   "cell_type": "code",
   "execution_count": 119,
   "id": "593cd8b4-2804-460a-befe-eea07a11773b",
   "metadata": {},
   "outputs": [
    {
     "data": {
      "text/plain": [
       "array([[100,   5],\n",
       "       [  7,   6]])"
      ]
     },
     "execution_count": 119,
     "metadata": {},
     "output_type": "execute_result"
    }
   ],
   "source": [
    "x2_sub_copy = x2[:2, :2].copy()\n",
    "x2_sub_copy"
   ]
  },
  {
   "cell_type": "code",
   "execution_count": 120,
   "id": "ca6add11-502e-44f5-9da8-69c545b4abec",
   "metadata": {},
   "outputs": [
    {
     "data": {
      "text/plain": [
       "array([[42,  5],\n",
       "       [ 7,  6]])"
      ]
     },
     "execution_count": 120,
     "metadata": {},
     "output_type": "execute_result"
    }
   ],
   "source": [
    "x2_sub_copy[0, 0] = 42\n",
    "x2_sub_copy"
   ]
  },
  {
   "cell_type": "code",
   "execution_count": 121,
   "id": "dde42e42-0fa5-4787-8de7-b580a86b3d6f",
   "metadata": {},
   "outputs": [
    {
     "data": {
      "text/plain": [
       "array([[100,   5,   2,   4],\n",
       "       [  7,   6,   8,   8],\n",
       "       [  1,   6,   7,   7]])"
      ]
     },
     "execution_count": 121,
     "metadata": {},
     "output_type": "execute_result"
    }
   ],
   "source": [
    "x2"
   ]
  },
  {
   "cell_type": "markdown",
   "id": "72a15f95-22fd-4e0e-add9-197bfa50eddf",
   "metadata": {
    "jp-MarkdownHeadingCollapsed": true
   },
   "source": [
    "## Reshaping of Arrays"
   ]
  },
  {
   "cell_type": "code",
   "execution_count": 123,
   "id": "1a203577-383d-4e93-ac70-adb67e65de45",
   "metadata": {},
   "outputs": [
    {
     "data": {
      "text/plain": [
       "array([1, 2, 3, 4, 5, 6, 7, 8, 9])"
      ]
     },
     "execution_count": 123,
     "metadata": {},
     "output_type": "execute_result"
    }
   ],
   "source": [
    "grid = np.arange(1, 10)\n",
    "grid"
   ]
  },
  {
   "cell_type": "code",
   "execution_count": 124,
   "id": "9634dfea-42d1-4950-926b-c6e41713440f",
   "metadata": {},
   "outputs": [
    {
     "data": {
      "text/plain": [
       "array([[1, 2, 3],\n",
       "       [4, 5, 6],\n",
       "       [7, 8, 9]])"
      ]
     },
     "execution_count": 124,
     "metadata": {},
     "output_type": "execute_result"
    }
   ],
   "source": [
    "grid.reshape((3, 3))"
   ]
  },
  {
   "cell_type": "markdown",
   "id": "1ebb054e-b8eb-4385-b6f0-776f1abc6abf",
   "metadata": {},
   "source": [
    "- Another common reshaping pattern is the conversion of a one-dimensional array into a two-dimensional row or column matrix.\n",
    "- You can do this with the reshape method, or more easily by making use of the newaxis keyword within a slice operation"
   ]
  },
  {
   "cell_type": "code",
   "execution_count": 126,
   "id": "2b9e19b2-348d-42ef-984c-8ba5974765ca",
   "metadata": {},
   "outputs": [
    {
     "data": {
      "text/plain": [
       "array([[1, 2, 3]])"
      ]
     },
     "execution_count": 126,
     "metadata": {},
     "output_type": "execute_result"
    }
   ],
   "source": [
    "x = np.array([1, 2, 3])\n",
    "x.reshape((1, 3))"
   ]
  },
  {
   "cell_type": "code",
   "execution_count": 132,
   "id": "9627d37a-fb60-49a5-80d4-1774a573d0e0",
   "metadata": {},
   "outputs": [
    {
     "data": {
      "text/plain": [
       "array([[1, 2, 3]])"
      ]
     },
     "execution_count": 132,
     "metadata": {},
     "output_type": "execute_result"
    }
   ],
   "source": [
    "x[np.newaxis, :] # (3,) becomes (1, 3)"
   ]
  },
  {
   "cell_type": "code",
   "execution_count": 133,
   "id": "d1d47176-e25d-4074-a5cf-44c762d0a8d0",
   "metadata": {},
   "outputs": [
    {
     "data": {
      "text/plain": [
       "array([[1],\n",
       "       [2],\n",
       "       [3]])"
      ]
     },
     "execution_count": 133,
     "metadata": {},
     "output_type": "execute_result"
    }
   ],
   "source": [
    "x.reshape((3, 1))"
   ]
  },
  {
   "cell_type": "code",
   "execution_count": 134,
   "id": "4d091d88-5145-4f25-961c-6178d7a57619",
   "metadata": {},
   "outputs": [
    {
     "data": {
      "text/plain": [
       "array([[1],\n",
       "       [2],\n",
       "       [3]])"
      ]
     },
     "execution_count": 134,
     "metadata": {},
     "output_type": "execute_result"
    }
   ],
   "source": [
    "x[:, np.newaxis] # (3,) shape becomes (3, 1)"
   ]
  },
  {
   "cell_type": "markdown",
   "id": "7f868ebb-d003-4fd5-a747-0494fe3987aa",
   "metadata": {},
   "source": [
    "## Array Concatenation and Splitting"
   ]
  },
  {
   "cell_type": "markdown",
   "id": "37342e68-a849-44be-ab32-344606cd43a7",
   "metadata": {
    "jp-MarkdownHeadingCollapsed": true
   },
   "source": [
    "### Array Concatenation"
   ]
  },
  {
   "cell_type": "code",
   "execution_count": 135,
   "id": "efe011fa-5d19-420e-b366-caf8b90f131c",
   "metadata": {},
   "outputs": [
    {
     "data": {
      "text/plain": [
       "array([1, 2, 3, 3, 2, 1])"
      ]
     },
     "execution_count": 135,
     "metadata": {},
     "output_type": "execute_result"
    }
   ],
   "source": [
    "x = np.array([1, 2, 3])\n",
    "y = np.array([3, 2, 1])\n",
    "np.concatenate([x, y])"
   ]
  },
  {
   "cell_type": "code",
   "execution_count": 136,
   "id": "0365cc91-50ce-40bf-9601-7f7770eb929e",
   "metadata": {},
   "outputs": [
    {
     "data": {
      "text/plain": [
       "array([ 1,  2,  3,  3,  2,  1, 99, 99, 99])"
      ]
     },
     "execution_count": 136,
     "metadata": {},
     "output_type": "execute_result"
    }
   ],
   "source": [
    "z = [99, 99, 99]\n",
    "np.concatenate([x, y, z])"
   ]
  },
  {
   "cell_type": "code",
   "execution_count": 139,
   "id": "daf6d4f8-d821-4d56-9c66-f852256555c3",
   "metadata": {},
   "outputs": [
    {
     "data": {
      "text/plain": [
       "array([[1, 2, 3],\n",
       "       [4, 5, 6]])"
      ]
     },
     "execution_count": 139,
     "metadata": {},
     "output_type": "execute_result"
    }
   ],
   "source": [
    "grid = np.array([[1, 2, 3],\n",
    "                 [4, 5, 6]])\n",
    "grid"
   ]
  },
  {
   "cell_type": "code",
   "execution_count": 138,
   "id": "0280a5f2-268d-4668-91a1-59b0809c7f19",
   "metadata": {},
   "outputs": [
    {
     "data": {
      "text/plain": [
       "array([[1, 2, 3],\n",
       "       [4, 5, 6],\n",
       "       [1, 2, 3],\n",
       "       [4, 5, 6]])"
      ]
     },
     "execution_count": 138,
     "metadata": {},
     "output_type": "execute_result"
    }
   ],
   "source": [
    "# concatenate along the first axis\n",
    "np.concatenate([grid, grid])"
   ]
  },
  {
   "cell_type": "code",
   "execution_count": 140,
   "id": "e76da20a-0477-459b-ba15-66a89e062101",
   "metadata": {},
   "outputs": [
    {
     "data": {
      "text/plain": [
       "array([[1, 2, 3, 1, 2, 3],\n",
       "       [4, 5, 6, 4, 5, 6]])"
      ]
     },
     "execution_count": 140,
     "metadata": {},
     "output_type": "execute_result"
    }
   ],
   "source": [
    "# concatenate along the second axis (zero-indexed)\n",
    "np.concatenate([grid, grid], axis=1)"
   ]
  },
  {
   "cell_type": "markdown",
   "id": "45475e03-c2e6-4ed5-98d6-94cc99660df6",
   "metadata": {},
   "source": [
    "For working with arrays of mixed dimensions, it can be clearer to use the np.vstack\n",
    "(vertical stack) and np.hstack (horizontal stack) functions"
   ]
  },
  {
   "cell_type": "code",
   "execution_count": 145,
   "id": "d88855b3-f97f-4dbc-9aca-1b8d652ad130",
   "metadata": {},
   "outputs": [
    {
     "data": {
      "text/plain": [
       "array([1, 2, 3])"
      ]
     },
     "metadata": {},
     "output_type": "display_data"
    },
    {
     "data": {
      "text/plain": [
       "array([[9, 8, 7],\n",
       "       [6, 5, 4]])"
      ]
     },
     "metadata": {},
     "output_type": "display_data"
    }
   ],
   "source": [
    "x = np.array([1, 2, 3])\n",
    "grid = np.array([[9, 8, 7],\n",
    "                 [6, 5, 4]])\n",
    "display(x)\n",
    "display(grid)"
   ]
  },
  {
   "cell_type": "code",
   "execution_count": 144,
   "id": "da3eba6f-a66a-4279-906b-727e2b643b1b",
   "metadata": {},
   "outputs": [
    {
     "data": {
      "text/plain": [
       "array([[1, 2, 3],\n",
       "       [9, 8, 7],\n",
       "       [6, 5, 4]])"
      ]
     },
     "execution_count": 144,
     "metadata": {},
     "output_type": "execute_result"
    }
   ],
   "source": [
    "# vertically stack the arrays\n",
    "np.vstack([x, grid])"
   ]
  },
  {
   "cell_type": "code",
   "execution_count": 146,
   "id": "0da4e563-fcb4-4d7d-b5dc-84a259eda449",
   "metadata": {},
   "outputs": [
    {
     "data": {
      "text/plain": [
       "array([[99],\n",
       "       [99]])"
      ]
     },
     "execution_count": 146,
     "metadata": {},
     "output_type": "execute_result"
    }
   ],
   "source": [
    "y = np.array([[99],\n",
    "            [99]])\n",
    "y"
   ]
  },
  {
   "cell_type": "code",
   "execution_count": 148,
   "id": "a0034dc3-a86b-48fa-bd1a-fcb020ae3418",
   "metadata": {},
   "outputs": [
    {
     "data": {
      "text/plain": [
       "array([[ 9,  8,  7, 99],\n",
       "       [ 6,  5,  4, 99]])"
      ]
     },
     "execution_count": 148,
     "metadata": {},
     "output_type": "execute_result"
    }
   ],
   "source": [
    "# horizontally stack the arrays\n",
    "np.hstack([grid, y])"
   ]
  },
  {
   "cell_type": "markdown",
   "id": "03a027c0-4542-425f-906c-17d1db8b5229",
   "metadata": {},
   "source": [
    "Similarly, np.dstack will stack arrays along the third axis."
   ]
  },
  {
   "cell_type": "markdown",
   "id": "0989e471-d511-4912-bc9d-93f2f2224a7c",
   "metadata": {
    "jp-MarkdownHeadingCollapsed": true
   },
   "source": [
    "### Splitting of arrays"
   ]
  },
  {
   "cell_type": "markdown",
   "id": "105fb39f-78b6-488f-9cfd-bad1e1c9e7b8",
   "metadata": {},
   "source": [
    "- The opposite of concatenation is splitting, which is implemented by the functions\n",
    "np.split, np.hsplit, and np.vsplit.\n",
    "- For each of these, we can pass a list of indices\n",
    "giving the split points."
   ]
  },
  {
   "cell_type": "code",
   "execution_count": 198,
   "id": "65542bc9-fe12-48e6-a8fd-c9d5a226be8c",
   "metadata": {},
   "outputs": [
    {
     "data": {
      "text/plain": [
       "array([ 1,  2,  3, 99, 99,  3,  2,  1])"
      ]
     },
     "execution_count": 198,
     "metadata": {},
     "output_type": "execute_result"
    }
   ],
   "source": [
    "x = np.array([1, 2, 3, 99, 99, 3, 2, 1])\n",
    "x"
   ]
  },
  {
   "cell_type": "code",
   "execution_count": 199,
   "id": "8d0cd99b-7aef-4908-be79-8824ce653b5d",
   "metadata": {},
   "outputs": [
    {
     "name": "stdout",
     "output_type": "stream",
     "text": [
      "[1 2 3] [99 99] [3 2 1]\n"
     ]
    }
   ],
   "source": [
    "x1, x2, x3 = np.split(x, [3, 5])\n",
    "print(x1, x2, x3)"
   ]
  },
  {
   "cell_type": "markdown",
   "id": "68b7374c-dd9c-45e2-a7c1-ab3ea63f22cc",
   "metadata": {},
   "source": [
    "N split points lead to N + 1 subarrays. The related functions np.hsplit\n",
    "and np.vsplit are similar."
   ]
  },
  {
   "cell_type": "code",
   "execution_count": 200,
   "id": "e51670e3-28ee-4fb1-b436-6c477b57250e",
   "metadata": {},
   "outputs": [
    {
     "data": {
      "text/plain": [
       "array([[ 0,  1,  2,  3],\n",
       "       [ 4,  5,  6,  7],\n",
       "       [ 8,  9, 10, 11],\n",
       "       [12, 13, 14, 15]])"
      ]
     },
     "execution_count": 200,
     "metadata": {},
     "output_type": "execute_result"
    }
   ],
   "source": [
    "grid = np.arange(16).reshape((4, 4))\n",
    "grid"
   ]
  },
  {
   "cell_type": "code",
   "execution_count": 201,
   "id": "43e92399-1d84-4c8e-9db0-16cdc2eca2fa",
   "metadata": {},
   "outputs": [
    {
     "name": "stdout",
     "output_type": "stream",
     "text": [
      "[[0 1 2 3]\n",
      " [4 5 6 7]]\n",
      "[[ 8  9 10 11]\n",
      " [12 13 14 15]]\n"
     ]
    }
   ],
   "source": [
    "upper, lower = np.vsplit(grid, [2])\n",
    "print(upper)\n",
    "print(lower)"
   ]
  },
  {
   "cell_type": "code",
   "execution_count": 202,
   "id": "04471d6c-8c63-4b43-92a1-d61f245ed063",
   "metadata": {},
   "outputs": [
    {
     "name": "stdout",
     "output_type": "stream",
     "text": [
      "[[ 0  1]\n",
      " [ 4  5]\n",
      " [ 8  9]\n",
      " [12 13]]\n",
      "[[ 2  3]\n",
      " [ 6  7]\n",
      " [10 11]\n",
      " [14 15]]\n"
     ]
    }
   ],
   "source": [
    "left, right = np.hsplit(grid, [2])\n",
    "print(left)\n",
    "print(right)"
   ]
  },
  {
   "cell_type": "markdown",
   "id": "2ac36428-238f-4c2b-897c-c76e3157a4ba",
   "metadata": {},
   "source": [
    "Similarly, np.dsplit will split arrays along the third axis."
   ]
  },
  {
   "cell_type": "markdown",
   "id": "7f926e21-b161-46cc-aff1-76678dca4451",
   "metadata": {},
   "source": [
    "# Computation on NumPy Arrays: Universal Functions"
   ]
  },
  {
   "cell_type": "markdown",
   "id": "61149300-5092-4bc4-96c4-59c94c824c64",
   "metadata": {},
   "source": [
    "- Computation on NumPy arrays can be very fast, or it can be very slow.\n",
    "- The key to making it fast is to use vectorized operations, generally implemented through NumPy’s universal functions (ufuncs)."
   ]
  },
  {
   "cell_type": "markdown",
   "id": "6b0eee13-26ef-400a-8e89-05b5a703cbbf",
   "metadata": {
    "jp-MarkdownHeadingCollapsed": true
   },
   "source": [
    "## The Slowness of Loops"
   ]
  },
  {
   "cell_type": "markdown",
   "id": "42246fc8-e6c7-4781-834a-2272d9a06f71",
   "metadata": {},
   "source": [
    "- Python’s default implementation (known as CPython) does some operations very slowly.\n",
    "- This is in part due to the dynamic, interpreted nature of the language: the fact that types are flexible."
   ]
  },
  {
   "cell_type": "code",
   "execution_count": 155,
   "id": "c586017d-1e7f-44bd-bb5b-feb65deb464b",
   "metadata": {},
   "outputs": [
    {
     "data": {
      "text/plain": [
       "array([7, 4, 8, 5, 7])"
      ]
     },
     "metadata": {},
     "output_type": "display_data"
    },
    {
     "data": {
      "text/plain": [
       "array([0.14285714, 0.25      , 0.125     , 0.2       , 0.14285714])"
      ]
     },
     "metadata": {},
     "output_type": "display_data"
    }
   ],
   "source": [
    "# Finding reciprocals\n",
    "np.random.seed(42)\n",
    "\n",
    "def compute_reciprocals(values):\n",
    "    output = np.empty(len(values))\n",
    "    for i in range(len(values)):\n",
    "        output[i] = 1.0 / values[i]\n",
    "    return output\n",
    "    \n",
    "values = np.random.randint(1, 10, size=5)\n",
    "display(values)\n",
    "display(compute_reciprocals(values))"
   ]
  },
  {
   "cell_type": "code",
   "execution_count": 175,
   "id": "d2044a18-6740-4ee4-8896-1b7d02320a17",
   "metadata": {},
   "outputs": [
    {
     "name": "stdout",
     "output_type": "stream",
     "text": [
      "598 ms ± 9.84 ms per loop (mean ± std. dev. of 7 runs, 1 loop each)\n"
     ]
    }
   ],
   "source": [
    "big_array = np.random.randint(1, 100, size=1000000)\n",
    "%timeit compute_reciprocals(big_array)"
   ]
  },
  {
   "cell_type": "markdown",
   "id": "59c4e33c-3af7-496a-b7d9-f3cf7c179daa",
   "metadata": {},
   "source": [
    "- It turns out that the bottleneck here is not the operations themselves.\n",
    "- But the type-checking and function dispatches that CPython must do at each cycle of the loop.\n",
    "- Each time the reciprocal is computed, Python first examines the object’s type and does a dynamic lookup of the correct function to use for that type."
   ]
  },
  {
   "cell_type": "markdown",
   "id": "265c5dc1-3b4d-440c-940d-f1bb89fe9b65",
   "metadata": {
    "jp-MarkdownHeadingCollapsed": true
   },
   "source": [
    "## UFuncs"
   ]
  },
  {
   "cell_type": "markdown",
   "id": "c4663c55-26a6-4514-adf6-b6664ae545c7",
   "metadata": {},
   "source": [
    "- For many types of operations, NumPy provides a convenient interface into just this\n",
    "kind of statically typed, compiled routine.\n",
    "- This is known as a vectorized operation."
   ]
  },
  {
   "cell_type": "code",
   "execution_count": 161,
   "id": "16223dbf-0462-4e21-9705-9b0e41e05bd6",
   "metadata": {},
   "outputs": [
    {
     "data": {
      "text/plain": [
       "array([7, 4, 8, 5, 7])"
      ]
     },
     "metadata": {},
     "output_type": "display_data"
    },
    {
     "data": {
      "text/plain": [
       "array([0.14285714, 0.25      , 0.125     , 0.2       , 0.14285714])"
      ]
     },
     "metadata": {},
     "output_type": "display_data"
    },
    {
     "data": {
      "text/plain": [
       "array([0.14285714, 0.25      , 0.125     , 0.2       , 0.14285714])"
      ]
     },
     "metadata": {},
     "output_type": "display_data"
    }
   ],
   "source": [
    "display(values)\n",
    "display(compute_reciprocals(values))\n",
    "display(1.0 / values)"
   ]
  },
  {
   "cell_type": "code",
   "execution_count": 176,
   "id": "5574b68f-88f1-4e84-b4c6-97352ed7c340",
   "metadata": {},
   "outputs": [
    {
     "name": "stdout",
     "output_type": "stream",
     "text": [
      "589 ms ± 9.24 ms per loop (mean ± std. dev. of 7 runs, 1 loop each)\n"
     ]
    }
   ],
   "source": [
    "big_array = np.random.randint(1, 100, size=1000000)\n",
    "%timeit compute_reciprocals(big_array)"
   ]
  },
  {
   "cell_type": "code",
   "execution_count": 177,
   "id": "9ec27f3a-64e8-4488-b195-19f504d4ae12",
   "metadata": {},
   "outputs": [
    {
     "name": "stdout",
     "output_type": "stream",
     "text": [
      "656 μs ± 79.4 μs per loop (mean ± std. dev. of 7 runs, 1,000 loops each)\n"
     ]
    }
   ],
   "source": [
    "%timeit (1.0 / big_array)"
   ]
  },
  {
   "cell_type": "code",
   "execution_count": 178,
   "id": "b852cd01-0d97-420e-b2a5-0591c31a4745",
   "metadata": {},
   "outputs": [
    {
     "data": {
      "text/plain": [
       "array([0.        , 0.5       , 0.66666667, 0.75      , 0.8       ])"
      ]
     },
     "execution_count": 178,
     "metadata": {},
     "output_type": "execute_result"
    }
   ],
   "source": [
    "# UFuncs between two arrays\n",
    "np.arange(5) / np.arange(1, 6)"
   ]
  },
  {
   "cell_type": "code",
   "execution_count": 180,
   "id": "7dc24ad6-9094-48c2-a202-c947dc907841",
   "metadata": {},
   "outputs": [
    {
     "data": {
      "text/plain": [
       "array([[0, 1, 2],\n",
       "       [3, 4, 5],\n",
       "       [6, 7, 8]])"
      ]
     },
     "metadata": {},
     "output_type": "display_data"
    },
    {
     "data": {
      "text/plain": [
       "array([[  1,   2,   4],\n",
       "       [  8,  16,  32],\n",
       "       [ 64, 128, 256]])"
      ]
     },
     "metadata": {},
     "output_type": "display_data"
    }
   ],
   "source": [
    "x = np.arange(9).reshape((3, 3))\n",
    "display(x)\n",
    "display(2 ** x)"
   ]
  },
  {
   "cell_type": "markdown",
   "id": "42a1eb14-89e9-4552-9350-07ec6982bdeb",
   "metadata": {},
   "source": [
    "- Computations using vectorization through ufuncs are nearly always more efficient\n",
    "than their counterpart implemented through Python loops, especially as the arrays\n",
    "grow in size.\n",
    "- Any time you see such a loop in a Python script, you should consider\n",
    "whether it can be replaced with a vectorized expression."
   ]
  },
  {
   "cell_type": "markdown",
   "id": "c1602294-d4bf-43b6-a083-5c1a3bf398fb",
   "metadata": {},
   "source": [
    "## Exploring NumPy’s UFuncs"
   ]
  },
  {
   "cell_type": "markdown",
   "id": "ce3b7c22-88a3-4c0e-859a-ff808894421e",
   "metadata": {
    "jp-MarkdownHeadingCollapsed": true
   },
   "source": [
    "### Array arithmetic"
   ]
  },
  {
   "cell_type": "code",
   "execution_count": 188,
   "id": "9283881d-0bf6-4927-b02c-01ba289eb39a",
   "metadata": {},
   "outputs": [
    {
     "name": "stdout",
     "output_type": "stream",
     "text": [
      "x = [0 1 2 3]\n",
      "x + 5 = [5 6 7 8]\n",
      "x - 5 = [-5 -4 -3 -2]\n",
      "x * 2 = [0 2 4 6]\n",
      "\n",
      "x / 2 = [0.  0.5 1.  1.5]\n",
      "x // 2 = [0 0 1 1]\n",
      "\n",
      "-x =  [ 0 -1 -2 -3]\n",
      "x ** 2 =  [0 1 4 9]\n",
      "x % 2 =  [0 1 0 1]\n"
     ]
    }
   ],
   "source": [
    "x = np.arange(4)\n",
    "print(\"x =\", x)\n",
    "print(\"x + 5 =\", x + 5)\n",
    "print(\"x - 5 =\", x - 5)\n",
    "print(\"x * 2 =\", x * 2)\n",
    "print()\n",
    "\n",
    "print(\"x / 2 =\", x / 2)\n",
    "print(\"x // 2 =\", x // 2) # floor division\n",
    "print()\n",
    "\n",
    "print(\"-x = \", -x)\n",
    "print(\"x ** 2 = \", x ** 2)\n",
    "print(\"x % 2 = \", x % 2)"
   ]
  },
  {
   "cell_type": "code",
   "execution_count": 190,
   "id": "6fd045bd-e4b0-4301-a1c4-47aa7d97604a",
   "metadata": {},
   "outputs": [
    {
     "data": {
      "text/plain": [
       "array([-1.  , -2.25, -4.  , -6.25])"
      ]
     },
     "execution_count": 190,
     "metadata": {},
     "output_type": "execute_result"
    }
   ],
   "source": [
    "-(0.5*x + 1) ** 2"
   ]
  },
  {
   "cell_type": "markdown",
   "id": "b678371b-7395-4183-b274-c856b38b736a",
   "metadata": {},
   "source": [
    "<img src=\"images/arithmetic-operations.png\" width=\"500\"/>"
   ]
  },
  {
   "cell_type": "markdown",
   "id": "2843f0bd-df70-4cfc-abaf-31fea9a89d43",
   "metadata": {
    "jp-MarkdownHeadingCollapsed": true
   },
   "source": [
    "### Absolute value"
   ]
  },
  {
   "cell_type": "code",
   "execution_count": 191,
   "id": "e275b062-b8ab-4692-bfbd-e22303b2ce66",
   "metadata": {},
   "outputs": [
    {
     "data": {
      "text/plain": [
       "array([-2, -1,  0,  1,  2])"
      ]
     },
     "execution_count": 191,
     "metadata": {},
     "output_type": "execute_result"
    }
   ],
   "source": [
    "x = np.array([-2, -1, 0, 1, 2])\n",
    "x"
   ]
  },
  {
   "cell_type": "code",
   "execution_count": 192,
   "id": "9636fab8-c397-4fff-bb39-2c7ed8c6f153",
   "metadata": {},
   "outputs": [
    {
     "data": {
      "text/plain": [
       "array([2, 1, 0, 1, 2])"
      ]
     },
     "execution_count": 192,
     "metadata": {},
     "output_type": "execute_result"
    }
   ],
   "source": [
    "abs(x)"
   ]
  },
  {
   "cell_type": "code",
   "execution_count": 193,
   "id": "db493dbc-6b4c-4e22-8d49-73aeca897656",
   "metadata": {},
   "outputs": [
    {
     "data": {
      "text/plain": [
       "array([2, 1, 0, 1, 2])"
      ]
     },
     "execution_count": 193,
     "metadata": {},
     "output_type": "execute_result"
    }
   ],
   "source": [
    "np.absolute(x)"
   ]
  },
  {
   "cell_type": "code",
   "execution_count": 194,
   "id": "33a61d43-c627-44dc-b211-a4cc9c3a6ad1",
   "metadata": {},
   "outputs": [
    {
     "data": {
      "text/plain": [
       "array([2, 1, 0, 1, 2])"
      ]
     },
     "execution_count": 194,
     "metadata": {},
     "output_type": "execute_result"
    }
   ],
   "source": [
    "np.abs(x)"
   ]
  },
  {
   "cell_type": "code",
   "execution_count": 195,
   "id": "bf76d0db-9b08-40a1-9b29-85db3b0f7e18",
   "metadata": {},
   "outputs": [
    {
     "data": {
      "text/plain": [
       "array([5., 5., 2., 1.])"
      ]
     },
     "execution_count": 195,
     "metadata": {},
     "output_type": "execute_result"
    }
   ],
   "source": [
    "# Complex values\n",
    "x = np.array([3 - 4j, 4 - 3j, 2 + 0j, 0 + 1j])\n",
    "np.abs(x)"
   ]
  },
  {
   "cell_type": "markdown",
   "id": "49a9b377-7faf-48cc-b510-71f6c5aa3f68",
   "metadata": {
    "jp-MarkdownHeadingCollapsed": true
   },
   "source": [
    "### Trigonometric functions"
   ]
  },
  {
   "cell_type": "code",
   "execution_count": 204,
   "id": "0dbd0854-2cd1-445d-9ce9-19c43029760c",
   "metadata": {},
   "outputs": [],
   "source": [
    "theta = np.linspace(0, np.pi, 3)"
   ]
  },
  {
   "cell_type": "code",
   "execution_count": 205,
   "id": "b2f39628-253e-4648-8919-40d094ae1d70",
   "metadata": {},
   "outputs": [
    {
     "name": "stdout",
     "output_type": "stream",
     "text": [
      "theta =  [0.         1.57079633 3.14159265]\n",
      "sin(theta) =  [0.0000000e+00 1.0000000e+00 1.2246468e-16]\n",
      "cos(theta) =  [ 1.000000e+00  6.123234e-17 -1.000000e+00]\n",
      "tan(theta) =  [ 0.00000000e+00  1.63312394e+16 -1.22464680e-16]\n"
     ]
    }
   ],
   "source": [
    "print(\"theta = \", theta)\n",
    "print(\"sin(theta) = \", np.sin(theta))\n",
    "print(\"cos(theta) = \", np.cos(theta))\n",
    "print(\"tan(theta) = \", np.tan(theta))"
   ]
  },
  {
   "cell_type": "code",
   "execution_count": 206,
   "id": "011db5a7-11a9-420a-b3b0-edbe6507db01",
   "metadata": {},
   "outputs": [
    {
     "data": {
      "text/plain": [
       "array([-1,  0,  1])"
      ]
     },
     "execution_count": 206,
     "metadata": {},
     "output_type": "execute_result"
    }
   ],
   "source": [
    "x = np.array([-1, 0, 1])\n",
    "x"
   ]
  },
  {
   "cell_type": "code",
   "execution_count": 209,
   "id": "89b97889-2bf8-4883-bde1-ae766fb8657c",
   "metadata": {},
   "outputs": [
    {
     "name": "stdout",
     "output_type": "stream",
     "text": [
      "x =  [-1  0  1]\n",
      "arcsin(x) =  [-1.57079633  0.          1.57079633]\n",
      "arccos(x) =  [3.14159265 1.57079633 0.        ]\n",
      "arctan(x) =  [-0.78539816  0.          0.78539816]\n"
     ]
    }
   ],
   "source": [
    "# Inverse trigonometric\n",
    "print(\"x = \", x)\n",
    "print(\"arcsin(x) = \", np.arcsin(x))\n",
    "print(\"arccos(x) = \", np.arccos(x))\n",
    "print(\"arctan(x) = \", np.arctan(x))"
   ]
  },
  {
   "cell_type": "markdown",
   "id": "e355fe82-f653-46c1-984a-7c70a317261e",
   "metadata": {
    "jp-MarkdownHeadingCollapsed": true
   },
   "source": [
    "### Exponents and logarithms"
   ]
  },
  {
   "cell_type": "code",
   "execution_count": 210,
   "id": "ad7896ef-298c-45a2-901f-02c6be8f0e67",
   "metadata": {},
   "outputs": [
    {
     "name": "stdout",
     "output_type": "stream",
     "text": [
      "x = [1 2 3]\n",
      "e^x = [ 2.71828183  7.3890561  20.08553692]\n",
      "2^x = [2. 4. 8.]\n",
      "3^x = [ 3  9 27]\n"
     ]
    }
   ],
   "source": [
    "x = np.array([1, 2, 3])\n",
    "print(\"x =\", x)\n",
    "print(\"e^x =\", np.exp(x))\n",
    "print(\"2^x =\", np.exp2(x))\n",
    "print(\"3^x =\", np.power(3, x))"
   ]
  },
  {
   "cell_type": "code",
   "execution_count": 211,
   "id": "12d7a1bd-523d-4875-b33e-b2f77aa77407",
   "metadata": {},
   "outputs": [
    {
     "name": "stdout",
     "output_type": "stream",
     "text": [
      "x = [1, 2, 4, 10]\n",
      "ln(x) = [0.         0.69314718 1.38629436 2.30258509]\n",
      "log2(x) = [0.         1.         2.         3.32192809]\n",
      "log10(x) = [0.         0.30103    0.60205999 1.        ]\n"
     ]
    }
   ],
   "source": [
    "x = [1, 2, 4, 10]\n",
    "print(\"x =\", x)\n",
    "print(\"ln(x) =\", np.log(x))\n",
    "print(\"log2(x) =\", np.log2(x))\n",
    "print(\"log10(x) =\", np.log10(x))"
   ]
  },
  {
   "cell_type": "markdown",
   "id": "5c38ec00-fe59-40ac-a889-f727f258cbdc",
   "metadata": {},
   "source": [
    "There are also some specialized versions that are useful for maintaining precision\n",
    "with very small input"
   ]
  },
  {
   "cell_type": "code",
   "execution_count": 214,
   "id": "2e564cf7-b1d6-4c95-a2cb-8ca3ac352c41",
   "metadata": {},
   "outputs": [
    {
     "name": "stdout",
     "output_type": "stream",
     "text": [
      "x = [0, 0.001, 0.01, 0.1]\n",
      "exp(x) - 1 = [0.         0.0010005  0.01005017 0.10517092]\n",
      "log(1 + x) = [0.         0.0009995  0.00995033 0.09531018]\n"
     ]
    }
   ],
   "source": [
    "x = [0, 0.001, 0.01, 0.1]\n",
    "print(\"x =\", x)\n",
    "print(\"exp(x) - 1 =\", np.expm1(x))\n",
    "print(\"log(1 + x) =\", np.log1p(x))"
   ]
  },
  {
   "cell_type": "markdown",
   "id": "b0be4b34-af56-441b-aefa-c5da02c2affd",
   "metadata": {
    "jp-MarkdownHeadingCollapsed": true
   },
   "source": [
    "### Specialized ufuncs"
   ]
  },
  {
   "cell_type": "code",
   "execution_count": 215,
   "id": "a1852a83-12bf-4d7e-8b54-13dc5112d094",
   "metadata": {},
   "outputs": [],
   "source": [
    "from scipy import special"
   ]
  },
  {
   "cell_type": "code",
   "execution_count": 216,
   "id": "54684ef9-7e3f-4b37-850b-35e97760fa19",
   "metadata": {},
   "outputs": [
    {
     "name": "stdout",
     "output_type": "stream",
     "text": [
      "x = [1, 5, 10]\n",
      "gamma(x) = [1.0000e+00 2.4000e+01 3.6288e+05]\n",
      "ln|gamma(x)| = [ 0.          3.17805383 12.80182748]\n",
      "beta(x, 2) = [0.5        0.03333333 0.00909091]\n"
     ]
    }
   ],
   "source": [
    "# Gamma functions (generalized factorials) and related functions\n",
    "x = [1, 5, 10]\n",
    "print(\"x =\", x)\n",
    "print(\"gamma(x) =\", special.gamma(x))\n",
    "print(\"ln|gamma(x)| =\", special.gammaln(x))\n",
    "print(\"beta(x, 2) =\", special.beta(x, 2))"
   ]
  },
  {
   "cell_type": "code",
   "execution_count": 217,
   "id": "f383d217-0db0-4f56-8002-c16b0beeeac2",
   "metadata": {},
   "outputs": [
    {
     "name": "stdout",
     "output_type": "stream",
     "text": [
      "x = [0.  0.3 0.7 1. ]\n",
      "erf(x) = [0.         0.32862676 0.67780119 0.84270079]\n",
      "erfc(x) = [1.         0.67137324 0.32219881 0.15729921]\n",
      "erfinv(x) = [0.         0.27246271 0.73286908        inf]\n"
     ]
    }
   ],
   "source": [
    "# Error function (integral of Gaussian)\n",
    "# its complement, and its inverse\n",
    "x = np.array([0, 0.3, 0.7, 1.0])\n",
    "print(\"x =\", x)\n",
    "print(\"erf(x) =\", special.erf(x))\n",
    "print(\"erfc(x) =\", special.erfc(x))\n",
    "print(\"erfinv(x) =\", special.erfinv(x))"
   ]
  },
  {
   "cell_type": "markdown",
   "id": "97fb13c7-bc5d-4d0a-bc30-3beacf1e2101",
   "metadata": {},
   "source": [
    "## Advanced Ufunc Features"
   ]
  },
  {
   "cell_type": "markdown",
   "id": "3f241ea3-b021-4167-a4be-c17e5396cc2a",
   "metadata": {
    "jp-MarkdownHeadingCollapsed": true
   },
   "source": [
    "### Specifying output"
   ]
  },
  {
   "cell_type": "markdown",
   "id": "8389e726-49e9-4a72-b7e7-ca20da5c765b",
   "metadata": {},
   "source": [
    "- For large calculations, it is sometimes useful to be able to specify the array where the\n",
    "result of the calculation will be stored.\n",
    "- Rather than creating a temporary array, you\n",
    "can use this to write computation results directly to the memory location where you’d\n",
    "like them to be.\n",
    "- For all ufuncs, you can do this using the out argument of the\n",
    "function"
   ]
  },
  {
   "cell_type": "code",
   "execution_count": 218,
   "id": "f45f7be2-7aa9-476c-9240-384d45ae5162",
   "metadata": {},
   "outputs": [
    {
     "data": {
      "text/plain": [
       "array([ 0., 10., 20., 30., 40.])"
      ]
     },
     "execution_count": 218,
     "metadata": {},
     "output_type": "execute_result"
    }
   ],
   "source": [
    "x = np.arange(5)\n",
    "y = np.empty(5)\n",
    "np.multiply(x, 10, out=y)\n",
    "y"
   ]
  },
  {
   "cell_type": "markdown",
   "id": "bf57460c-b8b0-4fa1-82d9-9fdcf3d85a32",
   "metadata": {},
   "source": [
    "- This can even be used with array views. For example, we can write the results of a\n",
    "computation to every other element of a specified array"
   ]
  },
  {
   "cell_type": "code",
   "execution_count": 222,
   "id": "fb71ca94-b91f-4f32-b5ac-54860d453a4d",
   "metadata": {},
   "outputs": [
    {
     "name": "stdout",
     "output_type": "stream",
     "text": [
      "x = [0 1 2 3 4]\n",
      "y = [ 1.  0.  2.  0.  4.  0.  8.  0. 16.  0.]\n"
     ]
    }
   ],
   "source": [
    "y = np.zeros(10)\n",
    "print(\"x =\", x)\n",
    "np.power(2, x, out=y[::2])\n",
    "print(\"y =\", y)"
   ]
  },
  {
   "cell_type": "markdown",
   "id": "109dd97f-095b-479b-882a-5a534d5f154f",
   "metadata": {},
   "source": [
    "- If we had instead written y[::2] = 2 ** x, this would have resulted in the creation\n",
    "of a temporary array to hold the results of 2 ** x, followed by a second operation\n",
    "copying those values into the y array.\n",
    "- This doesn’t make much of a difference for such\n",
    "a small computation, but for very large arrays the memory savings from careful use of\n",
    "the out argument can be significant."
   ]
  },
  {
   "cell_type": "markdown",
   "id": "493901da-357f-4979-aa75-5da827aec668",
   "metadata": {
    "jp-MarkdownHeadingCollapsed": true
   },
   "source": [
    "### Aggregates"
   ]
  },
  {
   "cell_type": "code",
   "execution_count": 224,
   "id": "88583f07-24ab-428a-b2d0-6421e0583331",
   "metadata": {},
   "outputs": [
    {
     "data": {
      "text/plain": [
       "array([1, 2, 3, 4, 5])"
      ]
     },
     "execution_count": 224,
     "metadata": {},
     "output_type": "execute_result"
    }
   ],
   "source": [
    "x = np.arange(1, 6)\n",
    "x"
   ]
  },
  {
   "cell_type": "code",
   "execution_count": 225,
   "id": "ceb38d78-8cf8-4f2e-aa30-8da1899a861c",
   "metadata": {},
   "outputs": [
    {
     "data": {
      "text/plain": [
       "15"
      ]
     },
     "execution_count": 225,
     "metadata": {},
     "output_type": "execute_result"
    }
   ],
   "source": [
    "np.add.reduce(x)"
   ]
  },
  {
   "cell_type": "code",
   "execution_count": 226,
   "id": "af9d9166-4286-4372-b593-468d73003a81",
   "metadata": {},
   "outputs": [
    {
     "data": {
      "text/plain": [
       "120"
      ]
     },
     "execution_count": 226,
     "metadata": {},
     "output_type": "execute_result"
    }
   ],
   "source": [
    "np.multiply.reduce(x)"
   ]
  },
  {
   "cell_type": "markdown",
   "id": "ae795334-2ab9-41ad-ac74-c074101151c8",
   "metadata": {},
   "source": [
    "- If we’d like to store all the intermediate results of the computation, we can instead use\n",
    "accumulate:"
   ]
  },
  {
   "cell_type": "code",
   "execution_count": 227,
   "id": "7d5317cb-4239-4a85-9a56-8f3d6e583219",
   "metadata": {},
   "outputs": [
    {
     "data": {
      "text/plain": [
       "array([ 1,  3,  6, 10, 15])"
      ]
     },
     "execution_count": 227,
     "metadata": {},
     "output_type": "execute_result"
    }
   ],
   "source": [
    "np.add.accumulate(x)"
   ]
  },
  {
   "cell_type": "code",
   "execution_count": 228,
   "id": "9bbf0edb-9510-4faa-a4bb-d02fe7735eac",
   "metadata": {},
   "outputs": [
    {
     "data": {
      "text/plain": [
       "array([  1,   2,   6,  24, 120])"
      ]
     },
     "execution_count": 228,
     "metadata": {},
     "output_type": "execute_result"
    }
   ],
   "source": [
    "np.multiply.accumulate(x)"
   ]
  },
  {
   "cell_type": "markdown",
   "id": "a8161822-9493-45a0-8cea-48378474fd22",
   "metadata": {
    "jp-MarkdownHeadingCollapsed": true
   },
   "source": [
    "### Outer Products"
   ]
  },
  {
   "cell_type": "markdown",
   "id": "8f04a2c5-3d39-4637-a825-ef49725e8dab",
   "metadata": {},
   "source": [
    "- Any ufunc can compute the output of all pairs of two different inputs using\n",
    "the outer method.\n",
    "- This allows you, in one line, to do things like create a multiplication table"
   ]
  },
  {
   "cell_type": "code",
   "execution_count": 239,
   "id": "1403c008-8d78-4b6c-8383-6c62f0bdd6f3",
   "metadata": {},
   "outputs": [
    {
     "data": {
      "text/plain": [
       "array([1, 2, 3, 4, 5])"
      ]
     },
     "execution_count": 239,
     "metadata": {},
     "output_type": "execute_result"
    }
   ],
   "source": [
    "x = np.arange(1, 6)\n",
    "x"
   ]
  },
  {
   "cell_type": "code",
   "execution_count": 240,
   "id": "1898748c-dc30-402a-9c57-1a686b4cc4b3",
   "metadata": {},
   "outputs": [
    {
     "data": {
      "text/plain": [
       "array([[ 1,  2,  3,  4,  5],\n",
       "       [ 2,  4,  6,  8, 10],\n",
       "       [ 3,  6,  9, 12, 15],\n",
       "       [ 4,  8, 12, 16, 20],\n",
       "       [ 5, 10, 15, 20, 25]])"
      ]
     },
     "execution_count": 240,
     "metadata": {},
     "output_type": "execute_result"
    }
   ],
   "source": [
    "np.multiply.outer(x, x)"
   ]
  },
  {
   "cell_type": "markdown",
   "id": "2e0e49e7-28a9-46f6-90b8-3c61a1d58cd5",
   "metadata": {},
   "source": [
    "# Aggregations: Min, Max, and Everything in Between"
   ]
  },
  {
   "cell_type": "markdown",
   "id": "7e039bed-8ed4-4cce-9b35-9c19cdb6e66a",
   "metadata": {},
   "source": [
    "# Computation on Arrays: Broadcasting"
   ]
  },
  {
   "cell_type": "markdown",
   "id": "28f214b7-9bb2-4097-bf52-a102bb884346",
   "metadata": {},
   "source": [
    "# Comparisons, Masks, and Boolean Logic"
   ]
  },
  {
   "cell_type": "markdown",
   "id": "36a8a36d-2fed-47bb-ac33-4c2abdee4008",
   "metadata": {},
   "source": [
    "# Fancy Indexing"
   ]
  },
  {
   "cell_type": "markdown",
   "id": "86516c73-fe6d-49a2-b151-88c502abff84",
   "metadata": {},
   "source": [
    "# Sorting Arrays"
   ]
  },
  {
   "cell_type": "markdown",
   "id": "c81ae24c-0e6b-4433-b4be-370a70daf483",
   "metadata": {},
   "source": [
    "# Structured Data: NumPy’s Structured Arrays"
   ]
  }
 ],
 "metadata": {
  "kernelspec": {
   "display_name": "Python 3 (ipykernel)",
   "language": "python",
   "name": "python3"
  },
  "language_info": {
   "codemirror_mode": {
    "name": "ipython",
    "version": 3
   },
   "file_extension": ".py",
   "mimetype": "text/x-python",
   "name": "python",
   "nbconvert_exporter": "python",
   "pygments_lexer": "ipython3",
   "version": "3.12.4"
  }
 },
 "nbformat": 4,
 "nbformat_minor": 5
}
