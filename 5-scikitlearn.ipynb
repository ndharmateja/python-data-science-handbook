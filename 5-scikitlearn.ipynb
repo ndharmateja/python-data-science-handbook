{
 "cells": [
  {
   "cell_type": "code",
   "execution_count": null,
   "id": "607b1de0-ab82-49f7-b1f4-c7e5b3cadffb",
   "metadata": {},
   "outputs": [],
   "source": []
  }
 ],
 "metadata": {
  "kernelspec": {
   "display_name": "",
   "name": ""
  },
  "language_info": {
   "name": ""
  }
 },
 "nbformat": 4,
 "nbformat_minor": 5
}
